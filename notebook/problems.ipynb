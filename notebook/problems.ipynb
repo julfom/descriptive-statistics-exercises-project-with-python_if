{
    "cells": [
        {
            "cell_type": "markdown",
            "id": "ac622319",
            "metadata": {},
            "source": [
                "# Descriptive statistics problems"
            ]
        },
        {
            "cell_type": "markdown",
            "id": "5e0ab0d5",
            "metadata": {},
            "source": [
                "### Exercise 1\n",
                "\n",
                "We will use NumPy to obtain information to describe statistically.\n",
                "\n",
                "- Generate an array of 100 elements following a normal distribution.\n",
                "- Generate an array of 100 elements following a chi-square distribution with 3 degrees of freedom.\n",
                "- Calculate the main metrics and statistical measures that best describe the two vectors."
            ]
        },
        {
            "cell_type": "code",
            "execution_count": 1,
            "id": "34720ab6",
            "metadata": {},
            "outputs": [],
            "source": [
                "# TODO\n",
                "import matplotlib.pyplot as plt\n",
                "import numpy as np\n",
                "import statistics as stats\n",
                "from scipy.stats import chi2\n",
                "\n",
                "df=3\n",
                "x=np.arange(100) # normal array 00 to 99\n",
                "chi_squared = chi2.pdf(x, df) #x2 distribution\n",
                "\n",
                "x2=np.array(chi_squared) # x2 distribution array\n",
                "\n",
                "plt.plot(x, chi_squared, label=f'Chi-Squared (df={df})')\n",
                "plt.title('Chi-Squared Distribution with 3 Degrees of Freedom')\n",
                "plt.xlabel('x')\n",
                "plt.ylabel('Probability Density')\n",
                "plt.legend()\n",
                "plt.show()\n",
                "\n",
                "min_x2=min(x2)\n",
                "print(f\"Min of x2:{min_x2}\")\n",
                "min_x=min(x)\n",
                "print(f\"Min of normal array:{min_x}\")\n",
                "\n",
                "max_x2=max(x2)\n",
                "print(f\"Max of x2:{max_x2}\")\n",
                "max_x=max(x)\n",
                "print(f\"Max of normal array:{max_x}\")\n",
                "\n",
                "mean_x2=stats.mean(x2)\n",
                "print(f\"Mean of x2:{mean_x2}\")\n",
                "mean_x=stats.mean(x)\n",
                "print(f\"Mean of normal array:{mean_x}\")\n",
                "\n",
                "median_x2=stats.median(x2)\n",
                "print(f\"Median of x2 array:{median_x2}\")\n",
                "median_x=stats.median(x)\n",
                "print(f\"Median of normal array:{median_x}\")\n",
                "\n",
                "mode_x2=stats.mode(x2)\n",
                "print(f\"Mode of x2 array: {mode_x2}\")\n",
                "mode_x=stats.mode(x)\n",
                "print(f\"Mode of normal array: {mode_x}\")\n",
                "\n",
                "range_x2 = max(x2) - min(x2)\n",
                "print(f\"Range of x2 array: {range_x2}\")\n",
                "range_x = max(x) - min(x)\n",
                "print(f\"Range of normal array: {range_x}\")\n",
                "\n"
            ]
        },
        {
            "cell_type": "markdown",
            "id": "46c70c3d",
            "metadata": {},
            "source": [
                "### Exercise 2\n",
                "\n",
                "Write a Python program to calculate the standard deviation of the following data:\n",
                "\n",
                "```py\n",
                "data = [4, 2, 5, 8, 6]\n",
                "```"
            ]
        },
        {
            "cell_type": "code",
            "execution_count": null,
            "id": "d590308e",
            "metadata": {},
            "outputs": [
                {
                    "name": "stdout",
                    "output_type": "stream",
                    "text": [
                        "Variance of normal array: 5\n",
                        "Standard deviation of normal array: 2.23606797749979\n"
                    ]
                }
            ],
            "source": [
                "# TODO\n",
                "import numpy as np\n",
                "import statistics as stats\n",
                "data = [4, 2, 5, 8, 6]\n",
                "variance_x = stats.variance(data)\n",
                "std_x = stats.stdev(data)\n",
                "\n",
                "print(f\"Variance of normal array: {variance_x}\")\n",
                "print(f\"Standard deviation of normal array: {std_x}\")"
            ]
        }
    ],
    "metadata": {
        "interpreter": {
            "hash": "9248718ffe6ce6938b217e69dbcc175ea21f4c6b28a317e96c05334edae734bb"
        },
        "kernelspec": {
            "display_name": "Python 3.9.12 ('ML-BOOTCAMP')",
            "language": "python",
            "name": "python3"
        },
        "language_info": {
            "codemirror_mode": {
                "name": "ipython",
                "version": 3
            },
            "file_extension": ".py",
            "mimetype": "text/x-python",
            "name": "python",
            "nbconvert_exporter": "python",
            "pygments_lexer": "ipython3",
            "version": "3.11.4"
        }
    },
    "nbformat": 4,
    "nbformat_minor": 5
}
